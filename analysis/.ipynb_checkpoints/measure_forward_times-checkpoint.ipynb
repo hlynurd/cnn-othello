{
 "cells": [
  {
   "cell_type": "code",
   "execution_count": 4,
   "metadata": {
    "collapsed": false
   },
   "outputs": [],
   "source": [
    "from __future__ import print_function\n",
    "from collections import deque\n",
    "from tensorflow.python.framework import ops\n",
    "from rl_reinforce import REINFORCEothello\n",
    "from othello_net import *\n",
    "from othello_rules import *\n",
    "from feature_extractor import *\n",
    "import os, random, sys\n",
    "import tensorflow as tf\n",
    "import time\n",
    "from datetime import datetime\n",
    "from example_states import *\n",
    "from training_utils import *\n",
    "from reinforcement_utils import *\n",
    "import random\n",
    "import numpy as np"
   ]
  },
  {
   "cell_type": "code",
   "execution_count": 11,
   "metadata": {
    "collapsed": false,
    "scrolled": false
   },
   "outputs": [
    {
     "name": "stdout",
     "output_type": "stream",
     "text": [
      "loaded graph 1 as ../supervised/models2/layers8filters64.ckpt\n",
      "time taken: 0:00:00.008823\n"
     ]
    }
   ],
   "source": [
    "test = policy_gradient_example()\n",
    "test = np.transpose(test)\n",
    "board = test\n",
    "player = -1\n",
    "\n",
    "tf.logging.set_verbosity(tf.logging.FATAL)\n",
    "np.set_printoptions(precision=2)\n",
    "tf.reset_default_graph()\n",
    "tf_graph_1 = tf.Graph()\n",
    "with tf_graph_1.as_default():\n",
    "    img_1, train_step_1, adam_1, ground_truth_1, loss_1, pred_1, learn_rate_1, score_1 = create_no_graph()\n",
    "sess_1 = tf.Session(graph=tf_graph_1)\n",
    "#features = [test]\n",
    "with sess_1.as_default():\n",
    "    with tf_graph_1.as_default():\n",
    "        tf.global_variables_initializer().run()\n",
    "        saver_1 = tf.train.Saver(tf.global_variables(), max_to_keep=9999)\n",
    "start = datetime.now()\n",
    "features = [board_to_input_c(test, -1, ['45', '67', '12', '41'])]\n",
    "prediction = sess_1.run(pred_1, feed_dict={img_1:features})\n",
    "end = datetime.now()\n",
    "print(\"time taken: \" + str(end - start))\n",
    "for sample in range(0, 10):\n",
    "    sampled_move = sample_action(board, player, prediction)\n",
    "    #print(sampled_move)\n"
   ]
  },
  {
   "cell_type": "code",
   "execution_count": null,
   "metadata": {
    "collapsed": true
   },
   "outputs": [],
   "source": []
  },
  {
   "cell_type": "code",
   "execution_count": null,
   "metadata": {
    "collapsed": true
   },
   "outputs": [],
   "source": []
  }
 ],
 "metadata": {
  "kernelspec": {
   "display_name": "Python 2",
   "language": "python",
   "name": "python2"
  },
  "language_info": {
   "codemirror_mode": {
    "name": "ipython",
    "version": 2
   },
   "file_extension": ".py",
   "mimetype": "text/x-python",
   "name": "python",
   "nbconvert_exporter": "python",
   "pygments_lexer": "ipython2",
   "version": "2.7.12"
  }
 },
 "nbformat": 4,
 "nbformat_minor": 1
}
