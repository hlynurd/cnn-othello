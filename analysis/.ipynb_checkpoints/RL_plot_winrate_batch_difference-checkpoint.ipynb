{
 "cells": [
  {
   "cell_type": "code",
   "execution_count": 3,
   "metadata": {
    "collapsed": false
   },
   "outputs": [
    {
     "ename": "ImportError",
     "evalue": "No module named othello_rules",
     "output_type": "error",
     "traceback": [
      "\u001b[0;31m---------------------------------------------------------------------------\u001b[0m",
      "\u001b[0;31mImportError\u001b[0m                               Traceback (most recent call last)",
      "\u001b[0;32m<ipython-input-3-faff3cc8c7f9>\u001b[0m in \u001b[0;36m<module>\u001b[0;34m()\u001b[0m\n\u001b[0;32m----> 1\u001b[0;31m \u001b[0;32mfrom\u001b[0m \u001b[0mothello_rules\u001b[0m \u001b[0;32mimport\u001b[0m \u001b[0;34m*\u001b[0m\u001b[0;34m\u001b[0m\u001b[0m\n\u001b[0m\u001b[1;32m      2\u001b[0m \u001b[0;32mfrom\u001b[0m \u001b[0mothello_net\u001b[0m \u001b[0;32mimport\u001b[0m \u001b[0;34m*\u001b[0m\u001b[0;34m\u001b[0m\u001b[0m\n\u001b[1;32m      3\u001b[0m \u001b[0;32mfrom\u001b[0m \u001b[0mtensorflow\u001b[0m\u001b[0;34m.\u001b[0m\u001b[0mpython\u001b[0m\u001b[0;34m.\u001b[0m\u001b[0mframework\u001b[0m \u001b[0;32mimport\u001b[0m \u001b[0mops\u001b[0m\u001b[0;34m\u001b[0m\u001b[0m\n\u001b[1;32m      4\u001b[0m \u001b[0;32mfrom\u001b[0m \u001b[0mdatetime\u001b[0m \u001b[0;32mimport\u001b[0m \u001b[0mdatetime\u001b[0m\u001b[0;34m\u001b[0m\u001b[0m\n\u001b[1;32m      5\u001b[0m \u001b[0;32mfrom\u001b[0m \u001b[0mexample_states\u001b[0m \u001b[0;32mimport\u001b[0m \u001b[0;34m*\u001b[0m\u001b[0;34m\u001b[0m\u001b[0m\n",
      "\u001b[0;31mImportError\u001b[0m: No module named othello_rules"
     ]
    }
   ],
   "source": [
    "from othello_rules import *\n",
    "from othello_net import *\n",
    "from tensorflow.python.framework import ops\n",
    "from datetime import datetime\n",
    "from example_states import *\n",
    "from feature_extractor import *\n",
    "from training_utils import *\n",
    "import numpy as np\n"
   ]
  },
  {
   "cell_type": "code",
   "execution_count": null,
   "metadata": {
    "collapsed": false
   },
   "outputs": [],
   "source": [
    "# Inspect one game visually with rules\n",
    "board = initialize_game()\n",
    "#print(board)\n",
    "#print('\\n')\n",
    "player = -1\n",
    "for move in unpacked_movelist:\n",
    "    #print(\"Player \" + str(player) + \" move: \" + str(move))\n",
    "    legal_moves = find_legal_moves(board, player)\n",
    "    #print(\"Legal moves are: \" + str(legal_moves))\n",
    "    if len(legal_moves) == 0:\n",
    "        if player is 1:\n",
    "            player = -1\n",
    "        else:\n",
    "            player = 1\n",
    "    if move == 0:\n",
    "        winner = get_winner(board, 1, 2)\n",
    "        print(\"Winner is \" + str(winner))\n",
    "        print(\"Next move would have been \" + str(move))\n",
    "        break\n",
    "    board = make_move(board, move, player)\n",
    "    if player is 1:\n",
    "        player = -1\n",
    "    else:\n",
    "        player = 1\n",
    "    #print(board)\n",
    "    #print('\\n')\n",
    "    \n",
    "legal_moves = find_legal_moves(board, player)\n",
    "winner = get_winner(board, 1, -1)\n",
    "#print(\"Winner is \" + str(winner) + \" with \" + str(get_points(board, winner)) + \" points\")\n",
    "#print(\"Black score is \" + str(unpack('b', test_match[6])) + \" i.e. \" + str(get_points(board, -1)))"
   ]
  },
  {
   "cell_type": "code",
   "execution_count": null,
   "metadata": {
    "collapsed": false,
    "scrolled": true
   },
   "outputs": [],
   "source": [
    "\n",
    "test_state = initialize_game()\n",
    "test_state = make_move(test_state, 56, -1)\n",
    "x = test_state\n",
    "#print(find_legal_moves(test_state, 1))\n",
    "#print(test_state)\n",
    "#test = board_to_input(x, 1)\n",
    "#print(test[:,:,10])\n",
    "#print(test[:,:,16])\n",
    "print(\"pressibus example:\")\n",
    "\n",
    "test = gen_pressibus_example()\n",
    "print(test)\n",
    "#print(find_legal_moves(test, 1))\n",
    "#test = board_to_input(test, 1)\n",
    "#print(test[:,:,10])\n",
    "#print(\"legal move grid\")\n",
    "#print(test[:,:,5]) #legal move grid\n",
    "#print(\"sum player stability\")\n",
    "#print(test[:,:,12]) # sum player stability\n",
    "#print(\"sum opponent stability\")\n",
    "#print(test[:,:,13]) # sum opponent stability\n",
    "#print(\"current player stability\")\n",
    "#print(test[:,:,14]) # current player stability\n",
    "#print(\"current opponent stability\")\n",
    "#print(test[:,:,16]) #current opponent stability\n",
    "\n"
   ]
  },
  {
   "cell_type": "code",
   "execution_count": null,
   "metadata": {
    "collapsed": false
   },
   "outputs": [],
   "source": [
    "#board = ''\n",
    "#for i in range(8):\n",
    "#    for j in range(8):\n",
    "#        board += ' .'\n",
    "#    board += '\\n'\n",
    "#print(board)\n",
    "black_score = unpack('b', test_match[6])\n",
    "print(black_score)\n",
    "print(unpack('b', test_match[7]))"
   ]
  },
  {
   "cell_type": "code",
   "execution_count": null,
   "metadata": {
    "collapsed": false
   },
   "outputs": [],
   "source": [
    "# The following actions perform all the necessary flips for each feature\n",
    "x_original = np.arange(9).reshape((3,3))\n",
    "print(\"Original \")\n",
    "print(x_original)\n",
    "x_upright = np.transpose(x_original)\n",
    "print(\"flip upright\")\n",
    "print(x_upright)\n",
    "x_upleft = np.rot90(np.rot90(x_upright))\n",
    "print(\"flip upleft\")\n",
    "print(x_upleft)\n",
    "print(\"\\n\")\n",
    "x_both_flips = np.transpose(x_upleft)\n",
    "print(x_both_flips)\n",
    "print(x_original)"
   ]
  },
  {
   "cell_type": "code",
   "execution_count": null,
   "metadata": {
    "collapsed": false
   },
   "outputs": [],
   "source": [
    "test = gen_pressibus_example()\n",
    "#test =initialize_game()\n",
    "print(test)\n",
    "features = board_to_input(test, 1, [11, 22, 33, 44])\n",
    "print(features.shape)\n",
    "print(features[:,:,35]) # g0\n",
    "print(features[:,:,36]) # g1\n",
    "print(features[:,:,37]) # g2\n",
    "print(features[:,:,38]) # g3\n",
    "print(features[:,:,39]) # g4\n",
    "print(features[:,:,40]) # g5\n",
    "print(features[:,:,41]) # g6\n",
    "print(features[:,:,42]) # g7\n",
    "newstate = make_move(test,'61', -1)\n",
    "print(newstate)"
   ]
  },
  {
   "cell_type": "markdown",
   "metadata": {
    "collapsed": true
   },
   "source": []
  },
  {
   "cell_type": "code",
   "execution_count": null,
   "metadata": {
    "collapsed": false,
    "scrolled": false
   },
   "outputs": [],
   "source": [
    "import matplotlib.pyplot\n",
    "import pylab\n",
    "from scipy.stats import linregress\n",
    "%matplotlib inline\n",
    "def prep_winrates_deltas(wrs_file, log=False):\n",
    "    winrates = []\n",
    "    delta_batches = []\n",
    "    batch = 0\n",
    "    with open(wrs_file) as f:\n",
    "        for line in f:\n",
    "            batch = batch+1\n",
    "            if log:\n",
    "                print(line)\n",
    "            if batch > 1:\n",
    "                #print(line)\n",
    "                l = []\n",
    "                t = line.split(' ')\n",
    "                wr = t[5]\n",
    "                wr = wr[2:-1]\n",
    "                opp_model = t[6]\n",
    "                if opp_model == 'els/layers8filters64.ckpt':\n",
    "                    continue\n",
    "                try:\n",
    "                    mdl = opp_model.split('/')[3]\n",
    "                    opponent_batch = mdl[6:-5]\n",
    "                except:\n",
    "                    opp_model = t[8]\n",
    "                    if opp_model == 'layers8filters64.ckpt':\n",
    "                        continue\n",
    "                    opponent_batch = opp_model[6:-5]\n",
    "                    wr = t[7]\n",
    "                    wr = wr[2:-1]\n",
    "                if opponent_batch != '8filters64':\n",
    "                    winrates.append(int(wr))\n",
    "                    try: \n",
    "                        delta =  int(batch) - int(opponent_batch)\n",
    "                    except:\n",
    "                        delta = int(batch) - 0\n",
    "                    if delta < 0:\n",
    "                        print('fishy')\n",
    "                        print(line)\n",
    "                        print(batch)\n",
    "                        print(opponent_batch)\n",
    "                    try:\n",
    "                        delta_batches.append(int(batch) - int(opponent_batch))\n",
    "                    except:\n",
    "                        delta_batches.append(int(batch) - 0)\n",
    "    return winrates, delta_batches\n",
    "winrates, deltas = prep_winrates_deltas(\"rl_logs.txt\")\n",
    "#print(winrates)\n",
    "#print(delta_batches)\n",
    "print(\"full length\")\n",
    "matplotlib.pyplot.scatter(deltas, winrates)\n",
    "matplotlib.pyplot.show()\n",
    "print(linregress(deltas,winrates).slope)\n",
    "print(\"leduced length\")\n",
    "deltas = deltas[0:600]\n",
    "winrates = winrates[0:600]\n",
    "matplotlib.pyplot.scatter(deltas, winrates)\n",
    "matplotlib.pyplot.show()\n",
    "print(linregress(deltas,winrates).slope)\n",
    "\n",
    "winrates, deltas = prep_winrates_deltas(\"logs_rl_2.txt\")\n",
    "print(\"full length\")\n",
    "matplotlib.pyplot.scatter(deltas, winrates)\n",
    "matplotlib.pyplot.show()\n",
    "print(linregress(deltas,winrates).slope)\n",
    "print(\"leduced length\")\n",
    "deltas = deltas[0:600]\n",
    "winrates = winrates[0:600]\n",
    "matplotlib.pyplot.scatter(deltas, winrates)\n",
    "matplotlib.pyplot.show()\n",
    "print(linregress(deltas,winrates).slope)\n",
    "\n",
    "winrates, deltas = prep_winrates_deltas(\"logs_rl_3.txt\")\n",
    "print(\"full length\")\n",
    "matplotlib.pyplot.scatter(deltas, winrates)\n",
    "matplotlib.pyplot.show()\n",
    "print(linregress(deltas,winrates).slope)\n",
    "print(\"leduced length\")\n",
    "deltas = deltas[0:600]\n",
    "winrates = winrates[0:600]\n",
    "matplotlib.pyplot.scatter(deltas, winrates)\n",
    "matplotlib.pyplot.show()\n",
    "print(linregress(deltas,winrates).slope)\n",
    "\n",
    "winrates, deltas = prep_winrates_deltas(\"logs_rl_4.txt\")\n",
    "print(\"full length\")\n",
    "matplotlib.pyplot.scatter(deltas, winrates)\n",
    "matplotlib.pyplot.show()\n",
    "print(linregress(deltas,winrates).slope)\n",
    "print(\"leduced length\")\n",
    "deltas = deltas[0:600]\n",
    "winrates = winrates[0:600]\n",
    "matplotlib.pyplot.scatter(deltas, winrates)\n",
    "matplotlib.pyplot.show()\n",
    "print(linregress(deltas,winrates).slope)"
   ]
  },
  {
   "cell_type": "code",
   "execution_count": null,
   "metadata": {
    "collapsed": true
   },
   "outputs": [],
   "source": []
  }
 ],
 "metadata": {
  "kernelspec": {
   "display_name": "Python 2",
   "language": "python",
   "name": "python2"
  },
  "language_info": {
   "codemirror_mode": {
    "name": "ipython",
    "version": 2
   },
   "file_extension": ".py",
   "mimetype": "text/x-python",
   "name": "python",
   "nbconvert_exporter": "python",
   "pygments_lexer": "ipython2",
   "version": "2.7.12"
  }
 },
 "nbformat": 4,
 "nbformat_minor": 1
}
