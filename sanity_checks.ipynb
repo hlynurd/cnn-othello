{
 "cells": [
  {
   "cell_type": "code",
   "execution_count": 1,
   "metadata": {
    "collapsed": false
   },
   "outputs": [],
   "source": [
    "from othello_rules import *\n",
    "from othello_net import *\n",
    "from tensorflow.python.framework import ops\n",
    "from datetime import datetime\n",
    "from example_states import *\n",
    "from feature_extractor import *\n",
    "from training_utils import *\n",
    "import numpy as np\n"
   ]
  },
  {
   "cell_type": "code",
   "execution_count": 2,
   "metadata": {
    "collapsed": false
   },
   "outputs": [
    {
     "ename": "NameError",
     "evalue": "name 'unpacked_movelist' is not defined",
     "output_type": "error",
     "traceback": [
      "\u001b[0;31m---------------------------------------------------------------------------\u001b[0m",
      "\u001b[0;31mNameError\u001b[0m                                 Traceback (most recent call last)",
      "\u001b[0;32m<ipython-input-2-fd6b73e4990a>\u001b[0m in \u001b[0;36m<module>\u001b[0;34m()\u001b[0m\n\u001b[1;32m      4\u001b[0m \u001b[0;31m#print('\\n')\u001b[0m\u001b[0;34m\u001b[0m\u001b[0;34m\u001b[0m\u001b[0m\n\u001b[1;32m      5\u001b[0m \u001b[0mplayer\u001b[0m \u001b[0;34m=\u001b[0m \u001b[0;34m-\u001b[0m\u001b[0;36m1\u001b[0m\u001b[0;34m\u001b[0m\u001b[0m\n\u001b[0;32m----> 6\u001b[0;31m \u001b[0;32mfor\u001b[0m \u001b[0mmove\u001b[0m \u001b[0;32min\u001b[0m \u001b[0munpacked_movelist\u001b[0m\u001b[0;34m:\u001b[0m\u001b[0;34m\u001b[0m\u001b[0m\n\u001b[0m\u001b[1;32m      7\u001b[0m     \u001b[0;31m#print(\"Player \" + str(player) + \" move: \" + str(move))\u001b[0m\u001b[0;34m\u001b[0m\u001b[0;34m\u001b[0m\u001b[0m\n\u001b[1;32m      8\u001b[0m     \u001b[0mlegal_moves\u001b[0m \u001b[0;34m=\u001b[0m \u001b[0mfind_legal_moves\u001b[0m\u001b[0;34m(\u001b[0m\u001b[0mboard\u001b[0m\u001b[0;34m,\u001b[0m \u001b[0mplayer\u001b[0m\u001b[0;34m)\u001b[0m\u001b[0;34m\u001b[0m\u001b[0m\n",
      "\u001b[0;31mNameError\u001b[0m: name 'unpacked_movelist' is not defined"
     ]
    }
   ],
   "source": [
    "# Inspect one game visually with rules\n",
    "board = initialize_game()\n",
    "#print(board)\n",
    "#print('\\n')\n",
    "player = -1\n",
    "for move in unpacked_movelist:\n",
    "    #print(\"Player \" + str(player) + \" move: \" + str(move))\n",
    "    legal_moves = find_legal_moves(board, player)\n",
    "    #print(\"Legal moves are: \" + str(legal_moves))\n",
    "    if len(legal_moves) == 0:\n",
    "        if player is 1:\n",
    "            player = -1\n",
    "        else:\n",
    "            player = 1\n",
    "    if move == 0:\n",
    "        winner = get_winner(board, 1, 2)\n",
    "        print(\"Winner is \" + str(winner))\n",
    "        print(\"Next move would have been \" + str(move))\n",
    "        break\n",
    "    board = make_move(board, move, player)\n",
    "    if player is 1:\n",
    "        player = -1\n",
    "    else:\n",
    "        player = 1\n",
    "    #print(board)\n",
    "    #print('\\n')\n",
    "    \n",
    "legal_moves = find_legal_moves(board, player)\n",
    "winner = get_winner(board, 1, -1)\n",
    "#print(\"Winner is \" + str(winner) + \" with \" + str(get_points(board, winner)) + \" points\")\n",
    "#print(\"Black score is \" + str(unpack('b', test_match[6])) + \" i.e. \" + str(get_points(board, -1)))"
   ]
  },
  {
   "cell_type": "code",
   "execution_count": null,
   "metadata": {
    "collapsed": false,
    "scrolled": true
   },
   "outputs": [],
   "source": [
    "\n",
    "test_state = initialize_game()\n",
    "test_state = make_move(test_state, 56, -1)\n",
    "x = test_state\n",
    "#print(find_legal_moves(test_state, 1))\n",
    "#print(test_state)\n",
    "#test = board_to_input(x, 1)\n",
    "#print(test[:,:,10])\n",
    "#print(test[:,:,16])\n",
    "print(\"pressibus example:\")\n",
    "\n",
    "test = gen_pressibus_example()\n",
    "print(test)\n",
    "#print(find_legal_moves(test, 1))\n",
    "#test = board_to_input(test, 1)\n",
    "#print(test[:,:,10])\n",
    "#print(\"legal move grid\")\n",
    "#print(test[:,:,5]) #legal move grid\n",
    "#print(\"sum player stability\")\n",
    "#print(test[:,:,12]) # sum player stability\n",
    "#print(\"sum opponent stability\")\n",
    "#print(test[:,:,13]) # sum opponent stability\n",
    "#print(\"current player stability\")\n",
    "#print(test[:,:,14]) # current player stability\n",
    "#print(\"current opponent stability\")\n",
    "#print(test[:,:,16]) #current opponent stability\n",
    "\n"
   ]
  },
  {
   "cell_type": "code",
   "execution_count": null,
   "metadata": {
    "collapsed": false
   },
   "outputs": [],
   "source": [
    "#board = ''\n",
    "#for i in range(8):\n",
    "#    for j in range(8):\n",
    "#        board += ' .'\n",
    "#    board += '\\n'\n",
    "#print(board)\n",
    "black_score = unpack('b', test_match[6])\n",
    "print(black_score)\n",
    "print(unpack('b', test_match[7]))"
   ]
  },
  {
   "cell_type": "code",
   "execution_count": null,
   "metadata": {
    "collapsed": false
   },
   "outputs": [],
   "source": [
    "# The following actions perform all the necessary flips for each feature\n",
    "x_original = np.arange(9).reshape((3,3))\n",
    "print(\"Original \")\n",
    "print(x_original)\n",
    "x_upright = np.transpose(x_original)\n",
    "print(\"flip upright\")\n",
    "print(x_upright)\n",
    "x_upleft = np.rot90(np.rot90(x_upright))\n",
    "print(\"flip upleft\")\n",
    "print(x_upleft)\n",
    "print(\"\\n\")\n",
    "x_both_flips = np.transpose(x_upleft)\n",
    "print(x_both_flips)\n",
    "print(x_original)"
   ]
  },
  {
   "cell_type": "code",
   "execution_count": null,
   "metadata": {
    "collapsed": false
   },
   "outputs": [],
   "source": [
    "print(test)\n",
    "print(calculate_frontier(test, (5, 4)))\n",
    "print(calculate_frontier(test, (4, 4)))\n",
    "print(calculate_frontier(test, (5, 5)))\n",
    "features = board_to_input(test, 1)\n",
    "print(features[:,:,16])\n",
    "print(features[:,:,17])"
   ]
  },
  {
   "cell_type": "code",
   "execution_count": null,
   "metadata": {
    "collapsed": true
   },
   "outputs": [],
   "source": []
  },
  {
   "cell_type": "code",
   "execution_count": null,
   "metadata": {
    "collapsed": true
   },
   "outputs": [],
   "source": []
  }
 ],
 "metadata": {
  "kernelspec": {
   "display_name": "Python 2",
   "language": "python",
   "name": "python2"
  },
  "language_info": {
   "codemirror_mode": {
    "name": "ipython",
    "version": 2
   },
   "file_extension": ".py",
   "mimetype": "text/x-python",
   "name": "python",
   "nbconvert_exporter": "python",
   "pygments_lexer": "ipython2",
   "version": "2.7.11+"
  }
 },
 "nbformat": 4,
 "nbformat_minor": 1
}
