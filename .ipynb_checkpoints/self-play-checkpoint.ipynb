{
 "cells": [
  {
   "cell_type": "code",
   "execution_count": 1,
   "metadata": {
    "collapsed": true
   },
   "outputs": [],
   "source": [
    "from __future__ import print_function\n",
    "from collections import deque\n",
    "from tensorflow.python.framework import ops\n",
    "from rl_reinforce import REINFORCEothello\n",
    "from othello_net import *\n",
    "from othello_rules import *\n",
    "from feature_extractor import *\n",
    "import os\n",
    "import tensorflow as tf\n",
    "import numpy as np\n",
    "import sys\n",
    "import gym\n",
    "from datetime import datetime\n",
    "from example_states import *\n",
    "from training_utils import *\n",
    "np.set_printoptions(precision=2)\n"
   ]
  },
  {
   "cell_type": "code",
   "execution_count": 2,
   "metadata": {
    "collapsed": false,
    "scrolled": true
   },
   "outputs": [
    {
     "name": "stdout",
     "output_type": "stream",
     "text": [
      "0\n",
      "graph 1 wins are 39\n",
      "graph 2 wins are 56\n"
     ]
    }
   ],
   "source": [
    "def sample_action(prediction):\n",
    "    prediction = np.transpose(prediction[0])\n",
    "    prediction = np.transpose(prediction[1])\n",
    "    legal_moves = find_legal_moves(board, player)\n",
    "    cleaned_predictions = zero_illegal_moves(prediction, legal_moves)\n",
    "    p = cleaned_predictions.flatten()\n",
    "    p = p / np.sum(p)\n",
    "    sample_index = np.flatnonzero( np.random.multinomial(1,p,1) )[0]\n",
    "    return moves[sample_index]\n",
    "\n",
    "moves = ['0'] * 64\n",
    "for i in range(8):\n",
    "    for j in range(8):\n",
    "        moves[i*8 + j] = str((i+1) * 10 + (j+1))\n",
    "\n",
    "ops.reset_default_graph()\n",
    "\n",
    "graph_1, img_data_1, train_step_1, optimizer_1, ground_truths_1, loss_1, pred_up_1, keep_prob_1, learn_rate_1, score_out_1 = create_othello_net()\n",
    "sess_1 = tf.Session(graph=graph_1)\n",
    "saver_1 = tf.train.Saver()\n",
    "init_op_1 = tf.initialize_all_variables()\n",
    "sess_1.run(init_op_1)\n",
    "current_model = \"models/tiny-selfplay.ckpt\"\n",
    "if os.path.isfile(current_model):\n",
    "    saver_1.restore(sess_1, current_model)\n",
    "\n",
    "#ops.reset_default_graph()\n",
    "graph_2, img_data_2, train_step_2, optimizer_2, ground_truths_2, loss_2, pred_up_2, keep_prob_2, learn_rate_2, score_out_2 = create_othello_net()\n",
    "sess_2 = tf.Session(graph=graph_2)\n",
    "saver_2 = tf.train.Saver()\n",
    "init_op_2 = tf.initialize_all_variables()\n",
    "sess_2.run(init_op_2)\n",
    "#current_model = \"models/tiny-selfplay-2.ckpt\"\n",
    "current_model = current_model\n",
    "if os.path.isfile(current_model):\n",
    "    saver_2.restore(sess_2, current_model)\n",
    "    \n",
    "N = 100\n",
    "graph_1 = -1\n",
    "graph_2 = 1\n",
    "graph_1_wins = 0\n",
    "graph_2_wins = 0\n",
    "for n in range(N):\n",
    "    if n % 100 is 0:\n",
    "        print(n)\n",
    "    board = initialize_game()\n",
    "    player = -1\n",
    "    while True:\n",
    "        legal_moves = find_legal_moves(board, player)\n",
    "        if len(legal_moves) == 0:\n",
    "            #print(\"game is over\")\n",
    "            #print(board)\n",
    "            winner = get_winner(board, 1, -1)\n",
    "            #print(\"winner is \" + str(winner))\n",
    "            if winner is graph_1:\n",
    "                graph_1_wins += 1\n",
    "            if winner is graph_2:\n",
    "                graph_2_wins += 1\n",
    "            break\n",
    "        features = board_to_input(board, player)\n",
    "        if player is graph_1:\n",
    "            prediction = sess_1.run(pred_up_1, feed_dict={img_data_1:[features], keep_prob_1:1.0})\n",
    "        else:\n",
    "            prediction = sess_2.run(pred_up_2, feed_dict={img_data_2:[features], keep_prob_2:1.0})\n",
    "        sampled_move = sample_action(prediction)\n",
    "        \n",
    "        \n",
    "        \n",
    "        board = make_move(board, sampled_move, player)\n",
    "\n",
    "        if player is 1:\n",
    "            player = -1\n",
    "        else:\n",
    "            player = 1\n",
    "        legal_moves = find_legal_moves(board, player)\n",
    "        if len(legal_moves) == 0:\n",
    "            if player is 1:\n",
    "                player = -1\n",
    "            else:\n",
    "                player = 1\n",
    "print(\"graph 1 wins are \" + str(graph_1_wins))\n",
    "print(\"graph 2 wins are \" + str(graph_2_wins))\n"
   ]
  },
  {
   "cell_type": "code",
   "execution_count": 3,
   "metadata": {
    "collapsed": false
   },
   "outputs": [],
   "source": [
    "#Games against itself:\n",
    "#graph 1 wins are 39\n",
    "#graph 2 wins are 56\n",
    "\n"
   ]
  }
 ],
 "metadata": {
  "kernelspec": {
   "display_name": "Python 2",
   "language": "python",
   "name": "python2"
  },
  "language_info": {
   "codemirror_mode": {
    "name": "ipython",
    "version": 2
   },
   "file_extension": ".py",
   "mimetype": "text/x-python",
   "name": "python",
   "nbconvert_exporter": "python",
   "pygments_lexer": "ipython2",
   "version": "2.7.11+"
  }
 },
 "nbformat": 4,
 "nbformat_minor": 1
}
