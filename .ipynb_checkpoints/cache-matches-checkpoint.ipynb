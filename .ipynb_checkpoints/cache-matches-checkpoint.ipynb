{
 "cells": [
  {
   "cell_type": "code",
   "execution_count": 1,
   "metadata": {
    "collapsed": false
   },
   "outputs": [],
   "source": [
    "from othello_rules import *\n",
    "from othello_net import *\n",
    "from tensorflow.python.framework import ops\n",
    "from datetime import datetime\n",
    "from example_states import *\n",
    "from feature_extractor import *\n",
    "from training_utils import *\n",
    "import numpy as np\n"
   ]
  },
  {
   "cell_type": "code",
   "execution_count": 5,
   "metadata": {
    "collapsed": false,
    "scrolled": true
   },
   "outputs": [
    {
     "name": "stdout",
     "output_type": "stream",
     "text": [
      "doing work\n",
      "1145\n",
      "117298\n",
      "2016-10-11 12:38:06.411465 current i is 105000\n"
     ]
    },
    {
     "ename": "KeyboardInterrupt",
     "evalue": "",
     "output_type": "error",
     "traceback": [
      "\u001b[0;31m---------------------------------------------------------------------------\u001b[0m",
      "\u001b[0;31mKeyboardInterrupt\u001b[0m                         Traceback (most recent call last)",
      "\u001b[0;32m<ipython-input-5-df35c1dc5a03>\u001b[0m in \u001b[0;36m<module>\u001b[0;34m()\u001b[0m\n\u001b[1;32m     50\u001b[0m \u001b[0;32mprint\u001b[0m\u001b[0;34m(\u001b[0m\u001b[0mlen\u001b[0m\u001b[0;34m(\u001b[0m\u001b[0mtraining_matches\u001b[0m\u001b[0;34m)\u001b[0m\u001b[0;34m)\u001b[0m\u001b[0;34m\u001b[0m\u001b[0m\n\u001b[1;32m     51\u001b[0m \u001b[0mtraining_dest\u001b[0m \u001b[0;34m=\u001b[0m \u001b[0;34m'cache/training'\u001b[0m\u001b[0;34m\u001b[0m\u001b[0m\n\u001b[0;32m---> 52\u001b[0;31m \u001b[0mcreate_cached_features\u001b[0m\u001b[0;34m(\u001b[0m\u001b[0mtraining_matches\u001b[0m\u001b[0;34m,\u001b[0m \u001b[0mtraining_dest\u001b[0m\u001b[0;34m)\u001b[0m\u001b[0;34m\u001b[0m\u001b[0m\n\u001b[0m\u001b[1;32m     53\u001b[0m \u001b[0;32mprint\u001b[0m\u001b[0;34m(\u001b[0m\u001b[0;34m\"done\"\u001b[0m\u001b[0;34m)\u001b[0m\u001b[0;34m\u001b[0m\u001b[0m\n",
      "\u001b[0;32m<ipython-input-5-df35c1dc5a03>\u001b[0m in \u001b[0;36mcreate_cached_features\u001b[0;34m(match_list, destination)\u001b[0m\n\u001b[1;32m     18\u001b[0m             \u001b[0mfeature_path\u001b[0m \u001b[0;34m=\u001b[0m \u001b[0mdestination\u001b[0m \u001b[0;34m+\u001b[0m \u001b[0;34m'/features/features_'\u001b[0m \u001b[0;34m+\u001b[0m \u001b[0mstr\u001b[0m\u001b[0;34m(\u001b[0m\u001b[0mi\u001b[0m\u001b[0;34m)\u001b[0m \u001b[0;34m+\u001b[0m \u001b[0;34m\"_\"\u001b[0m \u001b[0;34m+\u001b[0m \u001b[0mstr\u001b[0m\u001b[0;34m(\u001b[0m\u001b[0mmove\u001b[0m\u001b[0;34m)\u001b[0m \u001b[0;34m+\u001b[0m \u001b[0;34m\".npy\"\u001b[0m\u001b[0;34m\u001b[0m\u001b[0m\n\u001b[1;32m     19\u001b[0m             \u001b[0mlabel_path\u001b[0m \u001b[0;34m=\u001b[0m \u001b[0mdestination\u001b[0m \u001b[0;34m+\u001b[0m  \u001b[0;34m'/labels/labels_'\u001b[0m \u001b[0;34m+\u001b[0m \u001b[0mstr\u001b[0m\u001b[0;34m(\u001b[0m\u001b[0mi\u001b[0m\u001b[0;34m)\u001b[0m \u001b[0;34m+\u001b[0m \u001b[0;34m\"_\"\u001b[0m \u001b[0;34m+\u001b[0m \u001b[0mstr\u001b[0m\u001b[0;34m(\u001b[0m\u001b[0mmove\u001b[0m\u001b[0;34m)\u001b[0m \u001b[0;34m+\u001b[0m \u001b[0;34m\".npy\"\u001b[0m\u001b[0;34m\u001b[0m\u001b[0m\n\u001b[0;32m---> 20\u001b[0;31m             \u001b[0;32mif\u001b[0m \u001b[0mos\u001b[0m\u001b[0;34m.\u001b[0m\u001b[0mpath\u001b[0m\u001b[0;34m.\u001b[0m\u001b[0misfile\u001b[0m\u001b[0;34m(\u001b[0m\u001b[0mfeature_path\u001b[0m\u001b[0;34m)\u001b[0m\u001b[0;34m:\u001b[0m\u001b[0;34m\u001b[0m\u001b[0m\n\u001b[0m\u001b[1;32m     21\u001b[0m                 \u001b[0mos\u001b[0m\u001b[0;34m.\u001b[0m\u001b[0mremove\u001b[0m\u001b[0;34m(\u001b[0m\u001b[0mfeature_path\u001b[0m\u001b[0;34m)\u001b[0m\u001b[0;34m\u001b[0m\u001b[0m\n\u001b[1;32m     22\u001b[0m                 \u001b[0;32mcontinue\u001b[0m\u001b[0;34m\u001b[0m\u001b[0m\n",
      "\u001b[0;32m/usr/lib/python2.7/genericpath.pyc\u001b[0m in \u001b[0;36misfile\u001b[0;34m(path)\u001b[0m\n\u001b[1;32m     35\u001b[0m     \u001b[0;34m\"\"\"Test whether a path is a regular file\"\"\"\u001b[0m\u001b[0;34m\u001b[0m\u001b[0m\n\u001b[1;32m     36\u001b[0m     \u001b[0;32mtry\u001b[0m\u001b[0;34m:\u001b[0m\u001b[0;34m\u001b[0m\u001b[0m\n\u001b[0;32m---> 37\u001b[0;31m         \u001b[0mst\u001b[0m \u001b[0;34m=\u001b[0m \u001b[0mos\u001b[0m\u001b[0;34m.\u001b[0m\u001b[0mstat\u001b[0m\u001b[0;34m(\u001b[0m\u001b[0mpath\u001b[0m\u001b[0;34m)\u001b[0m\u001b[0;34m\u001b[0m\u001b[0m\n\u001b[0m\u001b[1;32m     38\u001b[0m     \u001b[0;32mexcept\u001b[0m \u001b[0mos\u001b[0m\u001b[0;34m.\u001b[0m\u001b[0merror\u001b[0m\u001b[0;34m:\u001b[0m\u001b[0;34m\u001b[0m\u001b[0m\n\u001b[1;32m     39\u001b[0m         \u001b[0;32mreturn\u001b[0m \u001b[0mFalse\u001b[0m\u001b[0;34m\u001b[0m\u001b[0m\n",
      "\u001b[0;31mKeyboardInterrupt\u001b[0m: "
     ]
    }
   ],
   "source": [
    "# Following function iterates through each match from the training\n",
    "# data set and then calculates and saves the features of each match\n",
    "# without rotations\n",
    "def create_cached_features(match_list, destination):\n",
    "    for i in range(70000, len(match_list)):\n",
    "        if i % 3500 is 0:\n",
    "            print(str(datetime.now()) + \" current i is \" + str(i)) \n",
    "        current_match = match_list[i]\n",
    "        raw_match_movelist = current_match[8:]\n",
    "        unpacked_movelist = unpack('b'*60, raw_match_movelist)\n",
    "        board = initialize_game()\n",
    "        training_stability = np.zeros((8,8))\n",
    "        player = -1\n",
    "        # One training batch is all the data from one match\n",
    "        input_batch = []\n",
    "        label_batch = []\n",
    "        for move in unpacked_movelist:\n",
    "            feature_path = destination + '/features/features_' + str(i) + \"_\" + str(move) + \".npy\"\n",
    "            label_path = destination +  '/labels/labels_' + str(i) + \"_\" + str(move) + \".npy\"\n",
    "            if os.path.isfile(feature_path):\n",
    "                os.remove(feature_path)\n",
    "                continue\n",
    "            else:\n",
    "                continue\n",
    "            if not os.path.isfile(feature_path):\n",
    "                if move == 0:\n",
    "                    break\n",
    "                features = board_to_input(board, player)\n",
    "                label = prepare_data(move_to_label(move))\n",
    "                np.save(feature_path, features)\n",
    "                np.save(label_path, label)\n",
    "                board = make_move(board, move, player)\n",
    "                if player is 1:\n",
    "                    player = -1\n",
    "                else:\n",
    "                    player = 1\n",
    "                legal_moves = find_legal_moves(board, player)\n",
    "                if len(legal_moves) == 0:\n",
    "                    if player is 1:\n",
    "                        player = -1\n",
    "                    else:\n",
    "                        player = 1\n",
    "\n",
    "print(\"doing work\")\n",
    "validation_matches = get_all_matches('validation/')\n",
    "print(len(validation_matches))\n",
    "validation_dest = 'cache/validation/'\n",
    "create_cached_features(validation_matches, validation_dest)\n",
    "training_matches = get_all_matches('training/')\n",
    "print(len(training_matches))\n",
    "training_dest = 'cache/training'\n",
    "create_cached_features(training_matches, training_dest)\n",
    "print(\"done\")"
   ]
  },
  {
   "cell_type": "code",
   "execution_count": null,
   "metadata": {
    "collapsed": true
   },
   "outputs": [],
   "source": []
  },
  {
   "cell_type": "code",
   "execution_count": null,
   "metadata": {
    "collapsed": true
   },
   "outputs": [],
   "source": []
  }
 ],
 "metadata": {
  "kernelspec": {
   "display_name": "Python 2",
   "language": "python",
   "name": "python2"
  },
  "language_info": {
   "codemirror_mode": {
    "name": "ipython",
    "version": 2
   },
   "file_extension": ".py",
   "mimetype": "text/x-python",
   "name": "python",
   "nbconvert_exporter": "python",
   "pygments_lexer": "ipython2",
   "version": "2.7.11+"
  }
 },
 "nbformat": 4,
 "nbformat_minor": 1
}
