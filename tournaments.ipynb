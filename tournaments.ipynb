{
 "cells": [
  {
   "cell_type": "code",
   "execution_count": 1,
   "metadata": {
    "collapsed": true
   },
   "outputs": [],
   "source": [
    "from othello_rules import *\n",
    "from othello_net import *\n",
    "from tensorflow.python.framework import ops\n",
    "from datetime import datetime\n",
    "from example_states import *\n",
    "from feature_extractor import *\n",
    "from training_utils import *\n",
    "import numpy as np"
   ]
  },
  {
   "cell_type": "code",
   "execution_count": 2,
   "metadata": {
    "collapsed": false
   },
   "outputs": [],
   "source": [
    "# Ræsum graphið fyrir tensorflow\n",
    "ops.reset_default_graph()\n",
    "graph, img_data, train_step, ground_truths, loss, pred_up, keep_prob, learn_rate, score_out = create_othello_net()\n",
    "saver = tf.train.Saver()\n",
    "sess = tf.Session(config=tf.ConfigProto(log_device_placement=True))\n",
    "init_op = tf.initialize_all_variables()\n",
    "sess.run(init_op)\n",
    "current_model = \"models/othello_6.ckpt\"\n",
    "if os.path.isfile(current_model):\n",
    "    saver.restore(sess, current_model)"
   ]
  },
  {
   "cell_type": "code",
   "execution_count": 3,
   "metadata": {
    "collapsed": false,
    "scrolled": true
   },
   "outputs": [
    {
     "name": "stdout",
     "output_type": "stream",
     "text": [
      "[[ 0.  0. -1. -1. -1. -1. -1.  0.]\n",
      " [ 0.  0. -1. -1. -1. -1.  0.  0.]\n",
      " [ 0.  1.  1.  1. -1. -1.  0.  0.]\n",
      " [ 0.  1.  1. -1. -1. -1. -1.  0.]\n",
      " [ 0.  1.  1. -1. -1. -1.  1.  0.]\n",
      " [ 1.  1.  1.  1. -1.  1.  1.  0.]\n",
      " [ 0.  0.  0. -1.  1. -1.  0.  0.]\n",
      " [ 0.  0. -1. -1. -1. -1. -1.  0.]]\n"
     ]
    }
   ],
   "source": [
    "board = ffo_endgame_45()\n",
    "player = 1\n",
    "print(board)\n",
    "features = board_to_input(board, player)\n",
    "input_batch = [features]"
   ]
  },
  {
   "cell_type": "code",
   "execution_count": 5,
   "metadata": {
    "collapsed": false
   },
   "outputs": [
    {
     "name": "stdout",
     "output_type": "stream",
     "text": [
      "[[ 0.    0.04  0.    0.    0.    0.    0.    0.  ]\n",
      " [ 0.    0.    0.    0.    0.    0.    0.03  0.  ]\n",
      " [ 0.    0.    0.    0.    0.    0.    0.07  0.  ]\n",
      " [ 0.    0.    0.    0.    0.    0.    0.    0.22]\n",
      " [ 0.    0.    0.    0.    0.    0.    0.    0.  ]\n",
      " [ 0.    0.    0.    0.    0.    0.    0.    0.  ]\n",
      " [ 0.    0.    0.5   0.    0.    0.    0.04  0.  ]\n",
      " [ 0.    0.    0.    0.    0.    0.    0.    0.  ]]\n",
      "73\n"
     ]
    }
   ],
   "source": [
    "prediction = sess.run(pred_up, feed_dict={img_data:input_batch,\n",
    "                                        keep_prob:1.0})\n",
    "np.set_printoptions(precision=2)\n",
    "prediction = np.transpose(prediction[0])\n",
    "prediction = np.transpose(prediction[1])\n",
    "legal_moves = find_legal_moves(board, player)\n",
    "cleaned_predictions = zero_illegal_moves(prediction, legal_moves)\n",
    "i,j = np.unravel_index(cleaned_predictions.argmax(), cleaned_predictions.shape)\n",
    "move_argmax = str((i+1) * 10 + (j+1))\n",
    "print(cleaned_predictions)\n",
    "print(move_argmax)"
   ]
  },
  {
   "cell_type": "code",
   "execution_count": null,
   "metadata": {
    "collapsed": true
   },
   "outputs": [],
   "source": []
  }
 ],
 "metadata": {
  "kernelspec": {
   "display_name": "Python 2",
   "language": "python",
   "name": "python2"
  },
  "language_info": {
   "codemirror_mode": {
    "name": "ipython",
    "version": 2
   },
   "file_extension": ".py",
   "mimetype": "text/x-python",
   "name": "python",
   "nbconvert_exporter": "python",
   "pygments_lexer": "ipython2",
   "version": "2.7.11+"
  }
 },
 "nbformat": 4,
 "nbformat_minor": 1
}
