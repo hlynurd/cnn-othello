{
 "cells": [
  {
   "cell_type": "code",
   "execution_count": 1,
   "metadata": {
    "collapsed": false,
    "scrolled": false
   },
   "outputs": [],
   "source": [
    "from othello_rules import *\n",
    "from othello_net import *\n",
    "from tensorflow.python.framework import ops\n",
    "from datetime import datetime\n",
    "from example_states import *\n",
    "from feature_extractor import *\n",
    "from training_utils import *\n",
    "from policy_networks import *\n",
    "import numpy as np\n",
    "np.set_printoptions(precision=2)"
   ]
  },
  {
   "cell_type": "code",
   "execution_count": 2,
   "metadata": {
    "collapsed": false,
    "scrolled": false
   },
   "outputs": [
    {
     "name": "stdout",
     "output_type": "stream",
     "text": [
      "117298\n",
      "start training\n",
      "17. Oct 16:37:09, Step 0, loss value 1 = 39.936, loss value 1 = 5.486\n",
      "17. Oct 16:37:09, Step 0, prediction accuracy 1 = 0.195, prediction accuracy 2  = 0.522\n"
     ]
    },
    {
     "ename": "KeyboardInterrupt",
     "evalue": "",
     "output_type": "error",
     "traceback": [
      "\u001b[0;31m---------------------------------------------------------------------------\u001b[0m",
      "\u001b[0;31mKeyboardInterrupt\u001b[0m                         Traceback (most recent call last)",
      "\u001b[0;32m<ipython-input-2-0a74be788ec6>\u001b[0m in \u001b[0;36m<module>\u001b[0;34m()\u001b[0m\n\u001b[1;32m     74\u001b[0m                                      img_data_1, ground_truths_1, keep_prob_1, loss_1, pred_up_1)\n\u001b[1;32m     75\u001b[0m         errors2, accs2 = policy_loss(validation_path, sess_2,\n\u001b[0;32m---> 76\u001b[0;31m                                      img_data_2, ground_truths_2, keep_prob_2, loss_2, pred_up_2)\n\u001b[0m\u001b[1;32m     77\u001b[0m         \u001b[0;32mprint\u001b[0m\u001b[0;34m(\u001b[0m\u001b[0;34m'%s, Step %d, loss value 1 = %.3f, loss value 1 = %.3f'\u001b[0m \u001b[0;34m%\u001b[0m                                      \u001b[0;34m(\u001b[0m\u001b[0mdatetime\u001b[0m\u001b[0;34m.\u001b[0m\u001b[0mnow\u001b[0m\u001b[0;34m(\u001b[0m\u001b[0;34m)\u001b[0m\u001b[0;34m.\u001b[0m\u001b[0mstrftime\u001b[0m\u001b[0;34m(\u001b[0m\u001b[0;34m\"%d. %b %H:%M:%S\"\u001b[0m\u001b[0;34m)\u001b[0m\u001b[0;34m,\u001b[0m \u001b[0mi\u001b[0m\u001b[0;34m,\u001b[0m \u001b[0merrors1\u001b[0m\u001b[0;34m,\u001b[0m \u001b[0merrors2\u001b[0m\u001b[0;34m)\u001b[0m\u001b[0;34m)\u001b[0m\u001b[0;34m\u001b[0m\u001b[0m\n\u001b[1;32m     78\u001b[0m         \u001b[0;32mprint\u001b[0m\u001b[0;34m(\u001b[0m\u001b[0;34m'%s, Step %d, prediction accuracy 1 = %.3f, prediction accuracy 2  = %.3f'\u001b[0m \u001b[0;34m%\u001b[0m                                      \u001b[0;34m(\u001b[0m\u001b[0mdatetime\u001b[0m\u001b[0;34m.\u001b[0m\u001b[0mnow\u001b[0m\u001b[0;34m(\u001b[0m\u001b[0;34m)\u001b[0m\u001b[0;34m.\u001b[0m\u001b[0mstrftime\u001b[0m\u001b[0;34m(\u001b[0m\u001b[0;34m\"%d. %b %H:%M:%S\"\u001b[0m\u001b[0;34m)\u001b[0m\u001b[0;34m,\u001b[0m \u001b[0mi\u001b[0m\u001b[0;34m,\u001b[0m \u001b[0maccs1\u001b[0m\u001b[0;34m,\u001b[0m \u001b[0maccs2\u001b[0m\u001b[0;34m)\u001b[0m\u001b[0;34m)\u001b[0m\u001b[0;34m\u001b[0m\u001b[0m\n",
      "\u001b[0;32m/home/hlynurd/Notebook/Othello/training_utils.pyc\u001b[0m in \u001b[0;36mpolicy_loss\u001b[0;34m(data_path, test_sess, test_features, test_actions, test_keep, test_loss, test_pred, games)\u001b[0m\n\u001b[1;32m     70\u001b[0m             \u001b[0minput_batch\u001b[0m \u001b[0;34m=\u001b[0m \u001b[0;34m[\u001b[0m\u001b[0mfeatures\u001b[0m\u001b[0;34m]\u001b[0m\u001b[0;34m\u001b[0m\u001b[0m\n\u001b[1;32m     71\u001b[0m             \u001b[0mlabel_batch\u001b[0m \u001b[0;34m=\u001b[0m \u001b[0;34m[\u001b[0m\u001b[0mlabel\u001b[0m\u001b[0;34m]\u001b[0m\u001b[0;34m\u001b[0m\u001b[0m\n\u001b[0;32m---> 72\u001b[0;31m             \u001b[0merror\u001b[0m \u001b[0;34m=\u001b[0m \u001b[0mtest_sess\u001b[0m\u001b[0;34m.\u001b[0m\u001b[0mrun\u001b[0m\u001b[0;34m(\u001b[0m\u001b[0mtest_loss\u001b[0m\u001b[0;34m,\u001b[0m \u001b[0mfeed_dict\u001b[0m\u001b[0;34m=\u001b[0m\u001b[0;34m{\u001b[0m\u001b[0mtest_features\u001b[0m\u001b[0;34m:\u001b[0m\u001b[0minput_batch\u001b[0m\u001b[0;34m,\u001b[0m \u001b[0mtest_actions\u001b[0m\u001b[0;34m:\u001b[0m \u001b[0mlabel_batch\u001b[0m\u001b[0;34m,\u001b[0m \u001b[0mtest_keep\u001b[0m\u001b[0;34m:\u001b[0m\u001b[0;36m1.0\u001b[0m\u001b[0;34m}\u001b[0m\u001b[0;34m)\u001b[0m\u001b[0;34m\u001b[0m\u001b[0m\n\u001b[0m\u001b[1;32m     73\u001b[0m             \u001b[0merrors\u001b[0m\u001b[0;34m.\u001b[0m\u001b[0mappend\u001b[0m\u001b[0;34m(\u001b[0m\u001b[0merror\u001b[0m\u001b[0;34m)\u001b[0m\u001b[0;34m\u001b[0m\u001b[0m\n\u001b[1;32m     74\u001b[0m             \u001b[0mprediction\u001b[0m \u001b[0;34m=\u001b[0m \u001b[0mtest_sess\u001b[0m\u001b[0;34m.\u001b[0m\u001b[0mrun\u001b[0m\u001b[0;34m(\u001b[0m\u001b[0mtest_pred\u001b[0m\u001b[0;34m,\u001b[0m \u001b[0mfeed_dict\u001b[0m\u001b[0;34m=\u001b[0m\u001b[0;34m{\u001b[0m\u001b[0mtest_features\u001b[0m\u001b[0;34m:\u001b[0m\u001b[0minput_batch\u001b[0m\u001b[0;34m,\u001b[0m \u001b[0mtest_actions\u001b[0m\u001b[0;34m:\u001b[0m \u001b[0mlabel_batch\u001b[0m\u001b[0;34m,\u001b[0m \u001b[0mtest_keep\u001b[0m\u001b[0;34m:\u001b[0m\u001b[0;36m1.0\u001b[0m\u001b[0;34m}\u001b[0m\u001b[0;34m)\u001b[0m\u001b[0;34m\u001b[0m\u001b[0m\n",
      "\u001b[0;32m/usr/local/lib/python2.7/dist-packages/tensorflow/python/client/session.pyc\u001b[0m in \u001b[0;36mrun\u001b[0;34m(self, fetches, feed_dict, options, run_metadata)\u001b[0m\n\u001b[1;32m    708\u001b[0m     \u001b[0;32mtry\u001b[0m\u001b[0;34m:\u001b[0m\u001b[0;34m\u001b[0m\u001b[0m\n\u001b[1;32m    709\u001b[0m       result = self._run(None, fetches, feed_dict, options_ptr,\n\u001b[0;32m--> 710\u001b[0;31m                          run_metadata_ptr)\n\u001b[0m\u001b[1;32m    711\u001b[0m       \u001b[0;32mif\u001b[0m \u001b[0mrun_metadata\u001b[0m\u001b[0;34m:\u001b[0m\u001b[0;34m\u001b[0m\u001b[0m\n\u001b[1;32m    712\u001b[0m         \u001b[0mproto_data\u001b[0m \u001b[0;34m=\u001b[0m \u001b[0mtf_session\u001b[0m\u001b[0;34m.\u001b[0m\u001b[0mTF_GetBuffer\u001b[0m\u001b[0;34m(\u001b[0m\u001b[0mrun_metadata_ptr\u001b[0m\u001b[0;34m)\u001b[0m\u001b[0;34m\u001b[0m\u001b[0m\n",
      "\u001b[0;32m/usr/local/lib/python2.7/dist-packages/tensorflow/python/client/session.pyc\u001b[0m in \u001b[0;36m_run\u001b[0;34m(self, handle, fetches, feed_dict, options, run_metadata)\u001b[0m\n\u001b[1;32m    906\u001b[0m     \u001b[0;32mif\u001b[0m \u001b[0mfinal_fetches\u001b[0m \u001b[0;32mor\u001b[0m \u001b[0mfinal_targets\u001b[0m\u001b[0;34m:\u001b[0m\u001b[0;34m\u001b[0m\u001b[0m\n\u001b[1;32m    907\u001b[0m       results = self._do_run(handle, final_targets, final_fetches,\n\u001b[0;32m--> 908\u001b[0;31m                              feed_dict_string, options, run_metadata)\n\u001b[0m\u001b[1;32m    909\u001b[0m     \u001b[0;32melse\u001b[0m\u001b[0;34m:\u001b[0m\u001b[0;34m\u001b[0m\u001b[0m\n\u001b[1;32m    910\u001b[0m       \u001b[0mresults\u001b[0m \u001b[0;34m=\u001b[0m \u001b[0;34m[\u001b[0m\u001b[0;34m]\u001b[0m\u001b[0;34m\u001b[0m\u001b[0m\n",
      "\u001b[0;32m/usr/local/lib/python2.7/dist-packages/tensorflow/python/client/session.pyc\u001b[0m in \u001b[0;36m_do_run\u001b[0;34m(self, handle, target_list, fetch_list, feed_dict, options, run_metadata)\u001b[0m\n\u001b[1;32m    956\u001b[0m     \u001b[0;32mif\u001b[0m \u001b[0mhandle\u001b[0m \u001b[0;32mis\u001b[0m \u001b[0mNone\u001b[0m\u001b[0;34m:\u001b[0m\u001b[0;34m\u001b[0m\u001b[0m\n\u001b[1;32m    957\u001b[0m       return self._do_call(_run_fn, self._session, feed_dict, fetch_list,\n\u001b[0;32m--> 958\u001b[0;31m                            target_list, options, run_metadata)\n\u001b[0m\u001b[1;32m    959\u001b[0m     \u001b[0;32melse\u001b[0m\u001b[0;34m:\u001b[0m\u001b[0;34m\u001b[0m\u001b[0m\n\u001b[1;32m    960\u001b[0m       return self._do_call(_prun_fn, self._session, handle, feed_dict,\n",
      "\u001b[0;32m/usr/local/lib/python2.7/dist-packages/tensorflow/python/client/session.pyc\u001b[0m in \u001b[0;36m_do_call\u001b[0;34m(self, fn, *args)\u001b[0m\n\u001b[1;32m    963\u001b[0m   \u001b[0;32mdef\u001b[0m \u001b[0m_do_call\u001b[0m\u001b[0;34m(\u001b[0m\u001b[0mself\u001b[0m\u001b[0;34m,\u001b[0m \u001b[0mfn\u001b[0m\u001b[0;34m,\u001b[0m \u001b[0;34m*\u001b[0m\u001b[0margs\u001b[0m\u001b[0;34m)\u001b[0m\u001b[0;34m:\u001b[0m\u001b[0;34m\u001b[0m\u001b[0m\n\u001b[1;32m    964\u001b[0m     \u001b[0;32mtry\u001b[0m\u001b[0;34m:\u001b[0m\u001b[0;34m\u001b[0m\u001b[0m\n\u001b[0;32m--> 965\u001b[0;31m       \u001b[0;32mreturn\u001b[0m \u001b[0mfn\u001b[0m\u001b[0;34m(\u001b[0m\u001b[0;34m*\u001b[0m\u001b[0margs\u001b[0m\u001b[0;34m)\u001b[0m\u001b[0;34m\u001b[0m\u001b[0m\n\u001b[0m\u001b[1;32m    966\u001b[0m     \u001b[0;32mexcept\u001b[0m \u001b[0merrors\u001b[0m\u001b[0;34m.\u001b[0m\u001b[0mOpError\u001b[0m \u001b[0;32mas\u001b[0m \u001b[0me\u001b[0m\u001b[0;34m:\u001b[0m\u001b[0;34m\u001b[0m\u001b[0m\n\u001b[1;32m    967\u001b[0m       \u001b[0mmessage\u001b[0m \u001b[0;34m=\u001b[0m \u001b[0mcompat\u001b[0m\u001b[0;34m.\u001b[0m\u001b[0mas_text\u001b[0m\u001b[0;34m(\u001b[0m\u001b[0me\u001b[0m\u001b[0;34m.\u001b[0m\u001b[0mmessage\u001b[0m\u001b[0;34m)\u001b[0m\u001b[0;34m\u001b[0m\u001b[0m\n",
      "\u001b[0;32m/usr/local/lib/python2.7/dist-packages/tensorflow/python/client/session.pyc\u001b[0m in \u001b[0;36m_run_fn\u001b[0;34m(session, feed_dict, fetch_list, target_list, options, run_metadata)\u001b[0m\n\u001b[1;32m    945\u001b[0m         return tf_session.TF_Run(session, options,\n\u001b[1;32m    946\u001b[0m                                  \u001b[0mfeed_dict\u001b[0m\u001b[0;34m,\u001b[0m \u001b[0mfetch_list\u001b[0m\u001b[0;34m,\u001b[0m \u001b[0mtarget_list\u001b[0m\u001b[0;34m,\u001b[0m\u001b[0;34m\u001b[0m\u001b[0m\n\u001b[0;32m--> 947\u001b[0;31m                                  status, run_metadata)\n\u001b[0m\u001b[1;32m    948\u001b[0m \u001b[0;34m\u001b[0m\u001b[0m\n\u001b[1;32m    949\u001b[0m     \u001b[0;32mdef\u001b[0m \u001b[0m_prun_fn\u001b[0m\u001b[0;34m(\u001b[0m\u001b[0msession\u001b[0m\u001b[0;34m,\u001b[0m \u001b[0mhandle\u001b[0m\u001b[0;34m,\u001b[0m \u001b[0mfeed_dict\u001b[0m\u001b[0;34m,\u001b[0m \u001b[0mfetch_list\u001b[0m\u001b[0;34m)\u001b[0m\u001b[0;34m:\u001b[0m\u001b[0;34m\u001b[0m\u001b[0m\n",
      "\u001b[0;31mKeyboardInterrupt\u001b[0m: "
     ]
    }
   ],
   "source": [
    "# Ræsum graphið fyrir tensorflow\n",
    "ops.reset_default_graph()\n",
    "filters = 32\n",
    "graph_1, img_data_1, train_step_1, optimizer_1, ground_truths_1, \\\n",
    "                loss_1, pred_up_1, keep_prob_1, learn_rate_1, score_out_1 = policy_net_3x32(filters)\n",
    "sess_1    = tf.Session(graph=graph_1)\n",
    "saver_1   = tf.train.Saver()\n",
    "init_op_1 = tf.initialize_all_variables()\n",
    "sess_1.run(init_op_1)\n",
    "model_1 = \"models/filters3x32.ckpt\"\n",
    "if os.path.isfile(model_1):\n",
    "    saver_1.restore(sess_1, model_1)\n",
    "    \n",
    "tf.reset_default_graph()\n",
    "\n",
    "graph_2, img_data_2, train_step_2, optimizer_2, ground_truths_2, \\\n",
    "                loss_2, pred_up_2, keep_prob_2, learn_rate_2, score_out_2 = create_othello_net()\n",
    "sess_2    = tf.Session(graph=graph_2)\n",
    "saver_2   = tf.train.Saver()\n",
    "init_op_2 = tf.initialize_all_variables()\n",
    "sess_2.run(init_op_2)\n",
    "model_2 = \"models/tiny-rl-t.ckpt\"\n",
    "if os.path.isfile(model_2):\n",
    "    saver_2.restore(sess_2, model_2)\n",
    "    \n",
    "saver_2 = tf.train.Saver()\n",
    "\n",
    "matches = get_all_matches('training/')\n",
    "lenmatches = len(matches)\n",
    "print(lenmatches)\n",
    "\n",
    "# Byrjum þjálfunina\n",
    "print(\"start training\")\n",
    "validation_path = \"validation/\"\n",
    "#print(\"starting error:\" + str(avg_error(validation_path, sess)))\n",
    "#print('%s: Step %d: Prediction accuracy = %.2f' % (datetime.now(), 0,\n",
    "#                                                      prediction_accuracy()/float(60)))\n",
    "iterations = 30000\n",
    "eta        = 1e-4\n",
    "prev_stop  = 0\n",
    "probs      = 0.5\n",
    "for i in range(prev_stop, prev_stop+iterations):\n",
    "    #TODO: Skrifa þetta fall\n",
    "    #input_batch, label_batch = prepare_train_batch(train_ids, batch_size, do_flips, do_rots, data_path)\n",
    "    current_match      = matches[i]\n",
    "    raw_match_movelist = current_match[8:]\n",
    "    unpacked_movelist  = unpack('b'*60, raw_match_movelist)\n",
    "    board              = initialize_game()\n",
    "    player             = -1\n",
    "    input_batch        = []\n",
    "    label_batch        = []    \n",
    "\n",
    "    \n",
    "    for move in unpacked_movelist:\n",
    "        if move == 0:\n",
    "            break\n",
    "        input_batch, label_batch = prep_and_append_training_batch(i, label_batch,\n",
    "                                                                  move, input_batch, board, player)\n",
    "        board = make_move(board, move, player)\n",
    "        player = -1 if player is 1 else 1\n",
    "        legal_moves = find_legal_moves(board, player)\n",
    "        if len(legal_moves) == 0:\n",
    "            player = -1 if player is 1 else 1\n",
    "                \n",
    "    train_step_1.run(session=sess_1, feed_dict={img_data_1:input_batch,\n",
    "                                            ground_truths_1: label_batch,\n",
    "                                            keep_prob_1:probs,\n",
    "                                            learn_rate_1:eta})\n",
    "    train_step_2.run(session=sess_2, feed_dict={img_data_2:input_batch,\n",
    "                                            ground_truths_2: label_batch,\n",
    "                                            keep_prob_2:probs,\n",
    "                                            learn_rate_2:eta})\n",
    "    #img_data_2, train_step_2, optimizer_2, ground_truths_2, loss_2, pred_up_2, keep_prob_2\n",
    "    if (i % 50 is 0) and (i > 0 and i < 2000) or (i+1) == (iterations+prev_stop) or (i % 1000 is 0):  \n",
    "        errors1, accs1 = policy_loss(validation_path, sess_1,\n",
    "                                     img_data_1, ground_truths_1, keep_prob_1, loss_1, pred_up_1)\n",
    "        errors2, accs2 = policy_loss(validation_path, sess_2,\n",
    "                                     img_data_2, ground_truths_2, keep_prob_2, loss_2, pred_up_2)\n",
    "        print('%s, Step %d, loss value 1 = %.3f, loss value 1 = %.3f' % \\\n",
    "                                     (datetime.now().strftime(\"%d. %b %H:%M:%S\"), i, errors1, errors2))\n",
    "        print('%s, Step %d, prediction accuracy 1 = %.3f, prediction accuracy 2  = %.3f' % \\\n",
    "                                     (datetime.now().strftime(\"%d. %b %H:%M:%S\"), i, accs1, accs2))\n",
    "        saver_1.save(sess_1, model_1)\n",
    "        saver_2.save(sess_2, model_2)\n",
    "\n",
    "print(\"done\")\n"
   ]
  }
 ],
 "metadata": {
  "kernelspec": {
   "display_name": "Python 2",
   "language": "python",
   "name": "python2"
  },
  "language_info": {
   "codemirror_mode": {
    "name": "ipython",
    "version": 2
   },
   "file_extension": ".py",
   "mimetype": "text/x-python",
   "name": "python",
   "nbconvert_exporter": "python",
   "pygments_lexer": "ipython2",
   "version": "2.7.11+"
  }
 },
 "nbformat": 4,
 "nbformat_minor": 0
}
