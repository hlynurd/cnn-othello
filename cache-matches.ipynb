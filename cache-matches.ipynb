{
 "cells": [
  {
   "cell_type": "code",
   "execution_count": 1,
   "metadata": {
    "collapsed": false
   },
   "outputs": [],
   "source": [
    "from othello_rules import *\n",
    "from othello_net import *\n",
    "from tensorflow.python.framework import ops\n",
    "from datetime import datetime\n",
    "from example_states import *\n",
    "from feature_extractor import *\n",
    "from training_utils import *\n",
    "import numpy as np\n"
   ]
  },
  {
   "cell_type": "code",
   "execution_count": 3,
   "metadata": {
    "collapsed": false,
    "scrolled": true
   },
   "outputs": [
    {
     "name": "stdout",
     "output_type": "stream",
     "text": [
      "doing work\n",
      "1145\n",
      "117298\n",
      "2016-11-03 14:17:54.370068 current i is 0\n",
      "2016-11-03 14:18:06.171360 current i is 500\n",
      "2016-11-03 14:18:15.812389 current i is 1000\n",
      "2016-11-03 14:18:25.101493 current i is 1500\n",
      "2016-11-03 14:18:36.429455 current i is 2000\n",
      "2016-11-03 14:18:47.228574 current i is 2500\n",
      "2016-11-03 14:18:57.322937 current i is 3000\n",
      "2016-11-03 14:19:04.951210 current i is 3500\n",
      "2016-11-03 14:19:11.671831 current i is 4000\n",
      "2016-11-03 14:19:17.511071 current i is 4500\n",
      "2016-11-03 14:19:24.057558 current i is 5000\n",
      "2016-11-03 14:19:27.535923 current i is 5500\n",
      "2016-11-03 14:19:31.143936 current i is 6000\n",
      "2016-11-03 14:19:36.124084 current i is 6500\n",
      "2016-11-03 14:19:39.564453 current i is 7000\n",
      "2016-11-03 14:19:43.849679 current i is 7500\n",
      "2016-11-03 14:19:47.693502 current i is 8000\n",
      "2016-11-03 14:19:52.827283 current i is 8500\n",
      "2016-11-03 14:19:55.990469 current i is 9000\n",
      "2016-11-03 14:19:59.216357 current i is 9500\n",
      "2016-11-03 14:20:02.803526 current i is 10000\n",
      "2016-11-03 14:20:06.397274 current i is 10500\n",
      "2016-11-03 14:20:15.381909 current i is 11000\n",
      "2016-11-03 14:20:21.872959 current i is 11500\n",
      "2016-11-03 14:20:25.227186 current i is 12000\n",
      "2016-11-03 14:20:29.074799 current i is 12500\n",
      "2016-11-03 14:20:34.477747 current i is 13000\n",
      "2016-11-03 14:20:38.541817 current i is 13500\n",
      "2016-11-03 14:20:41.696341 current i is 14000\n",
      "2016-11-03 14:20:46.603448 current i is 14500\n",
      "2016-11-03 14:20:51.578695 current i is 15000\n",
      "2016-11-03 14:20:55.012532 current i is 15500\n",
      "2016-11-03 14:20:59.733577 current i is 16000\n",
      "2016-11-03 14:21:07.250635 current i is 16500\n",
      "2016-11-03 14:21:15.486062 current i is 17000\n",
      "2016-11-03 14:21:19.434430 current i is 17500\n",
      "2016-11-03 14:29:40.748212 current i is 18000\n",
      "2016-11-03 14:29:44.188803 current i is 18500\n",
      "2016-11-03 14:29:47.014431 current i is 19000\n",
      "2016-11-03 14:29:49.670861 current i is 19500\n",
      "done\n"
     ]
    }
   ],
   "source": [
    "# Following function iterates through each match from the training\n",
    "# data set and then calculates and saves the features of each match\n",
    "# without rotations\n",
    "def create_cached_features(match_list, destination):\n",
    "    for i in range(0, 20000):\n",
    "        if i % 500 is 0:\n",
    "            print(str(datetime.now()) + \" current i is \" + str(i)) \n",
    "        current_match = match_list[i]\n",
    "        raw_match_movelist = current_match[8:]\n",
    "        unpacked_movelist = unpack('b'*60, raw_match_movelist)\n",
    "        board = initialize_game()\n",
    "        training_stability = np.zeros((8,8))\n",
    "        player = -1\n",
    "        # One training batch is all the data from one match\n",
    "        input_batch = []\n",
    "        label_batch = []\n",
    "        for move in unpacked_movelist:\n",
    "            feature_path = destination + '/features/features_' + str(i) + \"_\" + str(move) + \".npy\"\n",
    "            label_path = destination +  '/labels/labels_' + str(i) + \"_\" + str(move) + \".npy\"\n",
    "            \n",
    "            '''\n",
    "            if os.path.isfile(feature_path):\n",
    "                os.remove(feature_path)\n",
    "            if os.path.isfile(label_path):\n",
    "                os.remove(label_path)\n",
    "                continue\n",
    "            else:\n",
    "                continue\n",
    "            '''\n",
    "            \n",
    "            \n",
    "\n",
    "            \n",
    "            \n",
    "            if not os.path.isfile(feature_path):\n",
    "                if move == 0:\n",
    "                    break\n",
    "                features = board_to_input(board, player)\n",
    "                label = prepare_data(move_to_label(move))            \n",
    "                features = (features - np.mean(features)) / np.std(features)\n",
    "                np.save(feature_path, features)\n",
    "                print(features)\n",
    "                np.save(label_path, label)\n",
    "                board = make_move(board, move, player)\n",
    "                if player is 1:\n",
    "                    player = -1\n",
    "                else:\n",
    "                    player = 1\n",
    "                legal_moves = find_legal_moves(board, player)\n",
    "                if len(legal_moves) == 0:\n",
    "                    if player is 1:\n",
    "                        player = -1\n",
    "                    else:\n",
    "                        player = 1\n",
    "\n",
    "print(\"doing work\")\n",
    "validation_matches = get_all_matches('validation/')\n",
    "print(len(validation_matches))\n",
    "validation_dest = 'cache/validation/'\n",
    "#create_cached_features(validation_matches, validation_dest)\n",
    "training_matches = get_all_matches('training/')\n",
    "print(len(training_matches))\n",
    "training_dest = 'cache/training'\n",
    "create_cached_features(training_matches, training_dest)\n",
    "print(\"done\")"
   ]
  },
  {
   "cell_type": "code",
   "execution_count": null,
   "metadata": {
    "collapsed": true
   },
   "outputs": [],
   "source": []
  },
  {
   "cell_type": "code",
   "execution_count": null,
   "metadata": {
    "collapsed": true
   },
   "outputs": [],
   "source": []
  }
 ],
 "metadata": {
  "kernelspec": {
   "display_name": "Python 2",
   "language": "python",
   "name": "python2"
  },
  "language_info": {
   "codemirror_mode": {
    "name": "ipython",
    "version": 2
   },
   "file_extension": ".py",
   "mimetype": "text/x-python",
   "name": "python",
   "nbconvert_exporter": "python",
   "pygments_lexer": "ipython2",
   "version": "2.7.11+"
  }
 },
 "nbformat": 4,
 "nbformat_minor": 1
}
