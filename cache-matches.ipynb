{
 "cells": [
  {
   "cell_type": "code",
   "execution_count": 1,
   "metadata": {
    "collapsed": false
   },
   "outputs": [],
   "source": [
    "from othello_rules import *\n",
    "from othello_net import *\n",
    "from tensorflow.python.framework import ops\n",
    "from datetime import datetime\n",
    "from example_states import *\n",
    "from feature_extractor import *\n",
    "from training_utils import *\n",
    "import numpy as np\n"
   ]
  },
  {
   "cell_type": "code",
   "execution_count": 6,
   "metadata": {
    "collapsed": false,
    "scrolled": true
   },
   "outputs": [
    {
     "name": "stdout",
     "output_type": "stream",
     "text": [
      "doing work\n",
      "1145\n",
      "117298\n",
      "2016-10-11 17:13:08.448518 current i is 70000\n",
      "2016-10-11 17:13:35.007275 current i is 73500\n",
      "2016-10-11 17:13:48.733675 current i is 77000\n",
      "2016-10-11 17:14:03.716812 current i is 80500\n",
      "2016-10-11 17:14:19.448083 current i is 84000\n",
      "2016-10-11 17:14:35.866924 current i is 87500\n",
      "2016-10-11 17:14:53.957991 current i is 91000\n",
      "2016-10-11 17:15:14.024582 current i is 94500\n",
      "2016-10-11 17:15:32.623653 current i is 98000\n",
      "2016-10-11 17:15:50.127864 current i is 101500\n",
      "2016-10-11 17:16:14.166142 current i is 105000\n",
      "2016-10-11 17:16:15.881661 current i is 108500\n",
      "2016-10-11 17:16:18.634547 current i is 112000\n",
      "2016-10-11 17:16:20.993843 current i is 115500\n",
      "done\n"
     ]
    }
   ],
   "source": [
    "# Following function iterates through each match from the training\n",
    "# data set and then calculates and saves the features of each match\n",
    "# without rotations\n",
    "def create_cached_features(match_list, destination):\n",
    "    for i in range(70000, len(match_list)):\n",
    "        if i % 3500 is 0:\n",
    "            print(str(datetime.now()) + \" current i is \" + str(i)) \n",
    "        current_match = match_list[i]\n",
    "        raw_match_movelist = current_match[8:]\n",
    "        unpacked_movelist = unpack('b'*60, raw_match_movelist)\n",
    "        board = initialize_game()\n",
    "        training_stability = np.zeros((8,8))\n",
    "        player = -1\n",
    "        # One training batch is all the data from one match\n",
    "        input_batch = []\n",
    "        label_batch = []\n",
    "        for move in unpacked_movelist:\n",
    "            feature_path = destination + '/features/features_' + str(i) + \"_\" + str(move) + \".npy\"\n",
    "            label_path = destination +  '/labels/labels_' + str(i) + \"_\" + str(move) + \".npy\"\n",
    "            if os.path.isfile(feature_path):\n",
    "                os.remove(feature_path)\n",
    "                continue\n",
    "            else:\n",
    "                continue\n",
    "            if not os.path.isfile(feature_path):\n",
    "                if move == 0:\n",
    "                    break\n",
    "                features = board_to_input(board, player)\n",
    "                label = prepare_data(move_to_label(move))\n",
    "                np.save(feature_path, features)\n",
    "                np.save(label_path, label)\n",
    "                board = make_move(board, move, player)\n",
    "                if player is 1:\n",
    "                    player = -1\n",
    "                else:\n",
    "                    player = 1\n",
    "                legal_moves = find_legal_moves(board, player)\n",
    "                if len(legal_moves) == 0:\n",
    "                    if player is 1:\n",
    "                        player = -1\n",
    "                    else:\n",
    "                        player = 1\n",
    "\n",
    "print(\"doing work\")\n",
    "validation_matches = get_all_matches('validation/')\n",
    "print(len(validation_matches))\n",
    "validation_dest = 'cache/validation/'\n",
    "create_cached_features(validation_matches, validation_dest)\n",
    "training_matches = get_all_matches('training/')\n",
    "print(len(training_matches))\n",
    "training_dest = 'cache/training'\n",
    "create_cached_features(training_matches, training_dest)\n",
    "print(\"done\")"
   ]
  },
  {
   "cell_type": "code",
   "execution_count": null,
   "metadata": {
    "collapsed": true
   },
   "outputs": [],
   "source": []
  },
  {
   "cell_type": "code",
   "execution_count": null,
   "metadata": {
    "collapsed": true
   },
   "outputs": [],
   "source": []
  }
 ],
 "metadata": {
  "kernelspec": {
   "display_name": "Python 2",
   "language": "python",
   "name": "python2"
  },
  "language_info": {
   "codemirror_mode": {
    "name": "ipython",
    "version": 2
   },
   "file_extension": ".py",
   "mimetype": "text/x-python",
   "name": "python",
   "nbconvert_exporter": "python",
   "pygments_lexer": "ipython2",
   "version": "2.7.11+"
  }
 },
 "nbformat": 4,
 "nbformat_minor": 1
}
